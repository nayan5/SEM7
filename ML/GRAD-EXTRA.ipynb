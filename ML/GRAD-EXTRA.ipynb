{
 "cells": [
  {
   "cell_type": "code",
   "execution_count": null,
   "id": "afc75aed",
   "metadata": {},
   "outputs": [],
   "source": [
    "import numpy as np\n",
    "import matplotlib.pyplot as plt\n",
    "X = np.arange(-5,5)\n",
    "Y = (X+3)**2\n",
    "plt.style.use(\"seaborn\")\n",
    "plt.plot(X,Y)\n",
    "plt.xlabel(\"X\")\n",
    "plt.ylabel(\"F(X)\")\n",
    "plt.show()"
   ]
  },
  {
   "cell_type": "code",
   "execution_count": null,
   "id": "9aaf766b",
   "metadata": {},
   "outputs": [],
   "source": [
    "x = 0\n",
    "lr = 0.1\n",
    "error = []\n",
    "steps=50\n",
    "plt.plot(X,Y)\n",
    "for i in range(steps):\n",
    "    grad = 2*(x+3)\n",
    "    x = x - lr*grad\n",
    "    e = (x+3)**2\n",
    "    error.append(e)\n",
    "    plt.scatter(x,e)\n",
    "    plt.xlabel(\"X\")\n",
    "    plt.ylabel(\"F(X)\")\n",
    "    print(x)"
   ]
  },
  {
   "cell_type": "code",
   "execution_count": null,
   "id": "f4177a09",
   "metadata": {},
   "outputs": [],
   "source": [
    "plt.plot(error)"
   ]
  }
 ],
 "metadata": {
  "kernelspec": {
   "display_name": "Python 3 (ipykernel)",
   "language": "python",
   "name": "python3"
  },
  "language_info": {
   "codemirror_mode": {
    "name": "ipython",
    "version": 3
   },
   "file_extension": ".py",
   "mimetype": "text/x-python",
   "name": "python",
   "nbconvert_exporter": "python",
   "pygments_lexer": "ipython3",
   "version": "3.9.7"
  }
 },
 "nbformat": 4,
 "nbformat_minor": 5
}
