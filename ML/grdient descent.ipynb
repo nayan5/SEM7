{
 "cells": [
  {
   "cell_type": "code",
   "execution_count": 11,
   "id": "705e3ec0",
   "metadata": {},
   "outputs": [],
   "source": [
    "#Initialize Parameters\n",
    "cur_x = 2\n",
    "rate = 0.01\n",
    "precision = 0.000001\n",
    "previous_step_size = 1\n",
    "max_iters = 7\n",
    "iters = 0\n",
    "df = lambda x : 2 * (x + 3) #Gradient of our function i.e (x + 3)²\n"
   ]
  },
  {
   "cell_type": "code",
   "execution_count": 12,
   "id": "dfc5e058",
   "metadata": {},
   "outputs": [
    {
     "name": "stdout",
     "output_type": "stream",
     "text": [
      "Local Minima Occurs at : 1.3406276662336\n"
     ]
    }
   ],
   "source": [
    "#Run a loop to perform gradient Descent\n",
    "while previous_step_size > precision and iters < max_iters:\n",
    "    prev_x = cur_x\n",
    "    cur_x -= rate * df(prev_x)\n",
    "    previous_step_size = abs(prev_x - cur_x)\n",
    "    iters += 1\n",
    "#     print(\"itertion\",iters,\"\\nX vlue is\",cur_x)\n",
    "print(\"Local Minima Occurs at :\",cur_x)"
   ]
  },
  {
   "cell_type": "code",
   "execution_count": null,
   "id": "7a9d74a5",
   "metadata": {},
   "outputs": [],
   "source": []
  },
  {
   "cell_type": "code",
   "execution_count": null,
   "id": "10376f3a",
   "metadata": {},
   "outputs": [],
   "source": []
  }
 ],
 "metadata": {
  "kernelspec": {
   "display_name": "Python 3 (ipykernel)",
   "language": "python",
   "name": "python3"
  },
  "language_info": {
   "codemirror_mode": {
    "name": "ipython",
    "version": 3
   },
   "file_extension": ".py",
   "mimetype": "text/x-python",
   "name": "python",
   "nbconvert_exporter": "python",
   "pygments_lexer": "ipython3",
   "version": "3.9.7"
  }
 },
 "nbformat": 4,
 "nbformat_minor": 5
}
