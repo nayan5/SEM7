{
 "cells": [
  {
   "cell_type": "code",
   "execution_count": 19,
   "id": "8202fbf8",
   "metadata": {},
   "outputs": [],
   "source": [
    "import pandas as pd\n",
    "import numpy as np\n",
    "import matplotlib.pyplot as plt"
   ]
  },
  {
   "cell_type": "code",
   "execution_count": 21,
   "id": "dee8f3af",
   "metadata": {},
   "outputs": [],
   "source": [
    "\n",
    "df=pd.read_csv('sales_data_sample.csv',encoding = 'unicode_escape')"
   ]
  },
  {
   "cell_type": "code",
   "execution_count": 36,
   "id": "a59b1cfe",
   "metadata": {
    "scrolled": true
   },
   "outputs": [],
   "source": [
    "df.head()\n"
   ]
  },
  {
   "cell_type": "code",
   "execution_count": 23,
   "id": "7f6cb03e",
   "metadata": {},
   "outputs": [],
   "source": [
    "df=df.drop(['ORDERNUMBER','ORDERDATE','STATUS','PRODUCTCODE','CUSTOMERNAME','PHONE','ADDRESSLINE1', 'ADDRESSLINE2',],axis=1)"
   ]
  },
  {
   "cell_type": "code",
   "execution_count": null,
   "id": "79d83b02",
   "metadata": {},
   "outputs": [],
   "source": [
    "df"
   ]
  },
  {
   "cell_type": "code",
   "execution_count": 25,
   "id": "c6a43adb",
   "metadata": {},
   "outputs": [],
   "source": [
    "df=pd.get_dummies(df,columns=['PRODUCTLINE','DEALSIZE'])"
   ]
  },
  {
   "cell_type": "code",
   "execution_count": null,
   "id": "13e623a6",
   "metadata": {},
   "outputs": [],
   "source": [
    "df"
   ]
  },
  {
   "cell_type": "code",
   "execution_count": 34,
   "id": "0f4b831d",
   "metadata": {},
   "outputs": [],
   "source": [
    "df.columns"
   ]
  },
  {
   "cell_type": "code",
   "execution_count": 28,
   "id": "eb1e1158",
   "metadata": {},
   "outputs": [],
   "source": [
    "from sklearn.cluster import KMeans,k_means\n",
    "from sklearn.decomposition import PCA"
   ]
  },
  {
   "cell_type": "code",
   "execution_count": 30,
   "id": "8a70e786",
   "metadata": {},
   "outputs": [],
   "source": [
    "inertias=[]\n",
    "K=[i for i in range(1,11)]\n",
    "for k in K:\n",
    "    kmm=KMeans(n_clusters=k)\n",
    "    kmm.fit(df)\n",
    "    inertias.append(kmm.inertia_)"
   ]
  },
  {
   "cell_type": "code",
   "execution_count": null,
   "id": "5e6f324a",
   "metadata": {},
   "outputs": [],
   "source": [
    "plt.figure(figsize=(16,8))\n",
    "plt.plot(K,inertias,'bx-')\n",
    "plt.xlabel('K')\n",
    "plt.ylabel('Inertia')\n",
    "plt.title('Elbow Plot')"
   ]
  },
  {
   "cell_type": "code",
   "execution_count": 33,
   "id": "54740dd8",
   "metadata": {},
   "outputs": [],
   "source": [
    "x_train=df.values\n",
    "x_train.shape\n",
    "\n",
    "kmc=KMeans(n_clusters=5,random_state=2)\n",
    "kmc.fit(x_train)"
   ]
  },
  {
   "cell_type": "code",
   "execution_count": null,
   "id": "5482a0e1",
   "metadata": {},
   "outputs": [],
   "source": [
    "cluster=kmc.labels_\n",
    "df['cluster']=cluster\n",
    "df['cluster'].unique()\n",
    "df.head(20)"
   ]
  }
 ],
 "metadata": {
  "kernelspec": {
   "display_name": "Python 3 (ipykernel)",
   "language": "python",
   "name": "python3"
  },
  "language_info": {
   "codemirror_mode": {
    "name": "ipython",
    "version": 3
   },
   "file_extension": ".py",
   "mimetype": "text/x-python",
   "name": "python",
   "nbconvert_exporter": "python",
   "pygments_lexer": "ipython3",
   "version": "3.9.7"
  }
 },
 "nbformat": 4,
 "nbformat_minor": 5
}
