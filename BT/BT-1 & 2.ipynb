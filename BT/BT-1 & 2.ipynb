{
 "cells": [
  {
   "cell_type": "code",
   "execution_count": null,
   "id": "d112e567",
   "metadata": {},
   "outputs": [],
   "source": [
    "pragma solidity^0.8.7;\n",
    "\n",
    "contract banking{\n",
    "    mapping(address => uint) public balances;\n",
    "\n",
    "    function deposit(uint amount) public payable\n",
    "    {\n",
    "        balances[msg.sender] += amount;\n",
    "    }\n",
    "\n",
    "    function withdraw(uint amount) public payable returns (string memory){\n",
    "        require(balances[msg.sender] >= amount, \"not enough ether\");\n",
    "        balances[msg.sender] -= amount;\n",
    "        return \"Withdrawn Successfully\";\n",
    "    }\n",
    "\n",
    "\n",
    "    function getBal() public view returns(uint){\n",
    "        return balances[msg.sender];\n",
    "    }\n",
    "}"
   ]
  },
  {
   "cell_type": "code",
   "execution_count": null,
   "id": "222b78d1",
   "metadata": {},
   "outputs": [],
   "source": [
    "pragma solidity^0.8.7;\n",
    "\n",
    "contract studentmanager{\n",
    "    \n",
    "    struct Student{\n",
    "        uint stud_id;\n",
    "        string name;\n",
    "        string department;\n",
    "    }\n",
    "\n",
    "    Student[] students;\n",
    "\n",
    "    function add_student(uint stud_id, string memory name, string memory department) public{\n",
    "        Student memory stud = Student(stud_id, name, department);\n",
    "        students.push(stud);\n",
    "    }\n",
    "\n",
    "    function get_student(uint stud_id) public view returns(string memory, string memory){\n",
    "        for (uint i =0; i<students.length; i++){\n",
    "            Student memory stud = students[i];\n",
    "            if(stud.stud_id == stud_id){\n",
    "                return (stud.name, stud.department);\n",
    "            }\n",
    "        }\n",
    "    }\n",
    "\n",
    "}"
   ]
  }
 ],
 "metadata": {
  "kernelspec": {
   "display_name": "Python 3 (ipykernel)",
   "language": "python",
   "name": "python3"
  },
  "language_info": {
   "codemirror_mode": {
    "name": "ipython",
    "version": 3
   },
   "file_extension": ".py",
   "mimetype": "text/x-python",
   "name": "python",
   "nbconvert_exporter": "python",
   "pygments_lexer": "ipython3",
   "version": "3.9.7"
  }
 },
 "nbformat": 4,
 "nbformat_minor": 5
}
